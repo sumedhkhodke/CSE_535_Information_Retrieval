{
 "cells": [
  {
   "cell_type": "code",
   "execution_count": 2,
   "metadata": {},
   "outputs": [],
   "source": [
    "import pandas as pd\n",
    "import matplotlib.pyplot as plt\n",
    "import matplotlib.image as mpimg\n",
    "import numpy as np"
   ]
  },
  {
   "cell_type": "code",
   "execution_count": 3,
   "metadata": {},
   "outputs": [],
   "source": [
    "import seaborn\n",
    "seaborn.set()"
   ]
  },
  {
   "cell_type": "code",
   "execution_count": 4,
   "metadata": {},
   "outputs": [],
   "source": [
    "import sys\n",
    "sys.path.append(\"../retrieval/\")"
   ]
  },
  {
   "cell_type": "code",
   "execution_count": 5,
   "metadata": {},
   "outputs": [],
   "source": [
    "from Database import Database"
   ]
  },
  {
   "cell_type": "code",
   "execution_count": 31,
   "metadata": {},
   "outputs": [
    {
     "name": "stdout",
     "output_type": "stream",
     "text": [
      "self.mydb:  <mysql.connector.connection.MySQLConnection object at 0x7fd8a83ccf10>\n",
      "('IRProject4Table',)\n"
     ]
    }
   ],
   "source": [
    "db = Database()"
   ]
  },
  {
   "cell_type": "code",
   "execution_count": 32,
   "metadata": {},
   "outputs": [],
   "source": [
    "def run_query(db, sql_query):\n",
    "    db.mycursor.execute(sql_query)\n",
    "    records = db.mycursor.fetchall()\n",
    "    return records"
   ]
  },
  {
   "cell_type": "code",
   "execution_count": 35,
   "metadata": {},
   "outputs": [
    {
     "name": "stdout",
     "output_type": "stream",
     "text": [
      "[('Education', 0.6666666666666666), ('Environment', 0.3333333333333333), ('Healthcare', 0.6666666666666666), ('Politics', 0.5), ('Technology', 0.5)]\n"
     ]
    }
   ],
   "source": [
    "def show_relevance_by_topic():\n",
    "    sql_query = \"SELECT selected_topic, AVG(user_feedback) FROM IRProject4Table WHERE user_feedback IS NOT NULL AND selected_topic IS NOT NULL GROUP BY selected_topic\"\n",
    "    # sql_query = \"SELECT selected_topic, user_feedback FROM IRProject4Table WHERE user_feedback IS NOT NULL AND selected_topic IS NOT NULL\"\n",
    "    records = run_query(db, sql_query)\n",
    "    print(records)\n",
    "    df = pd.DataFrame(records, columns=['topic', 'user_feedback'])\n",
    "\n",
    "    # plt.bar(df['topic'], df['user_feedback'])\n",
    "    fig = plt.figure(figsize=(5, 7))\n",
    "    df.plot(kind='bar', legend=False, width=0.5, x='topic')\n",
    "    plt.xticks(rotation=0, fontname='Arial Unicode MS')\n",
    "    # plt.bar_label()\n",
    "    plt.title('Retrieval Relevance per Topic', pad=15, fontsize=18, fontweight='bold', fontname='Arial Unicode MS')\n",
    "    plt.xlabel('Topics', labelpad=12, size=15, fontname='Arial Unicode MS')\n",
    "    plt.ylabel('% Relevance from user feedback', labelpad=12, size=15, fontname='Arial Unicode MS')\n",
    "    fig.subplots_adjust(bottom=0.5)\n",
    "    plt.show()\n",
    "\n",
    "    return\n",
    "\n",
    "def show_relevance_by_database():\n",
    "    # sql_query = \"SELECT classifier, AVG(user_feedback) FROM IRProject4Database WHERE user_feedback IS NOT NULL GROUP BY classifier\"\n",
    "    sql_query = \"SELECT classifier, AVG(user_feedback) FROM IRProject4Table WHERE user_feedback IS NOT NULL AND classifier IS NOT NULL GROUP BY classifier\"\n",
    "    records = run_query(db, sql_query)\n",
    "    df = pd.DataFrame(records, columns=['Retrieval Index', 'user_feedback'])\n",
    "    df.loc[:, 'Retrieval Index'] = df['Retrieval Index'].map({'1': 'Chitchat', '0': 'Reddit'})\n",
    "\n",
    "    fig = plt.figure(figsize=(5, 7))\n",
    "    df.plot(kind='bar', legend=False, width=0.3, x='Retrieval Index')\n",
    "    plt.xticks(rotation=0, fontname='Arial Unicode MS')\n",
    "    # plt.bar_label()\n",
    "    plt.title('Retrieval Relevance per Database', pad=15, fontsize=18, fontweight='bold', fontname='Arial Unicode MS')\n",
    "    plt.xlabel('Database', labelpad=10, size=15, fontname='Arial Unicode MS')\n",
    "    plt.ylabel('% Relevance from user feedback', labelpad=12, size=15, fontname='Arial Unicode MS')\n",
    "    fig.subplots_adjust(bottom=0)\n",
    "    plt.show()\n",
    "\n",
    "    return\n",
    "\n",
    "def show_relevance_by_user():\n",
    "    # \"SELECT classifier, AVG(user_feedback) FROM IRProject4Table WHERE user_feedback IS NOT NULL AND classifier IS NOT NULL GROUP BY classifier\"\n",
    "    sql_query = \"SELECT session_id, AVG(user_feedback) FROM IRProject4Table WHERE user_feedback IS NOT NULL and session_id IS NOT NULL GROUP BY session_id\"\n",
    "    records = run_query(db, sql_query)\n",
    "    df = pd.DataFrame(records, columns=['session_id', 'user_feedback'])\n",
    "    \n",
    "    df_new = pd.cut(df['user_feedback'], bins=[0, 0.3, 0.5, 0.75, 1],\n",
    "    labels=['irrelevant', 'somewhat relevant', 'relevant', 'highly relevant'])\n",
    "    pie_df = (df_new.value_counts()/len(df)).to_frame().reset_index()\n",
    "    pie_df = pie_df.rename(columns={'index': 'Relevance Judgement'})\n",
    "\n",
    "    pie_df = pie_df.iloc[pd.Index(pie_df['Relevance Judgement']).get_indexer(['highly relevant','relevant','somewhat relevant', 'irrelevant'])].reset_index(drop=True)\n",
    "    \n",
    "    fig, ax = plt.subplots(figsize=(10, 5), subplot_kw=dict(aspect=\"equal\"))\n",
    "\n",
    "    recipe = pie_df['Relevance Judgement']\n",
    "    data = pie_df['user_feedback']\n",
    "\n",
    "    wedges, texts, _ = ax.pie(data, wedgeprops=dict(width=0.4), startangle=100, autopct='%.0f%%',\n",
    "    pctdistance=0.8, textprops={'fontsize': 10, 'color': 'white', 'fontweight': 'heavy','fontname': 'Arial Unicode MS'},\n",
    "    counterclock=False)\n",
    "\n",
    "    bbox_props = dict(boxstyle=\"square,pad=0.3\", fc=\"w\", ec=\"k\", lw=0.72)\n",
    "    kw = dict(arrowprops=dict(arrowstyle=\"-\", color='black'),\n",
    "            bbox=bbox_props, zorder=0, va=\"center\")\n",
    "\n",
    "    for i, p in enumerate(wedges):\n",
    "        ang = (p.theta2 - p.theta1)/2. + p.theta1\n",
    "        y = np.sin(np.deg2rad(ang))\n",
    "        x = np.cos(np.deg2rad(ang))\n",
    "        horizontalalignment = {-1: \"right\", 1: \"left\"}[int(np.sign(x))]\n",
    "        connectionstyle = \"angle,angleA=0,angleB={}\".format(ang)\n",
    "        kw[\"arrowprops\"].update({\"connectionstyle\": connectionstyle})\n",
    "        ax.annotate(recipe[i], xy=(x, y), xytext=(1.1*np.sign(x), 1.2*y),\n",
    "                    horizontalalignment=horizontalalignment, **kw)\n",
    "\n",
    "    ax.legend(['rel > 0.75', '0.5 > rel > 0.75', '0.3 > rel > 0.5', '0.0 > rel > 0.3'], loc='center left', bbox_to_anchor=[-0.8, 0.95])\n",
    "    plt.title('User Relevance Assessment', pad=15, fontsize=18, fontweight='bold', fontname='Arial Unicode MS')\n",
    "    plt.show()\n",
    "    \n",
    "    return\n",
    "\n",
    "\n",
    "def show_wordcloud_by_topic():\n",
    "\n",
    "    relative_path = \"./\"\n",
    "    rel_path_word_clouds = \"word_clouds_2/\"\n",
    "\n",
    "    plt.title('Education')\n",
    "    img1 = mpimg.imread(relative_path + rel_path_word_clouds + 'word_cloud_edu_2.png')\n",
    "    plt.axis('off')\n",
    "    imgplot1 = plt.imshow(img1)\n",
    "    plt.show()\n",
    "\n",
    "    plt.title('Healthcare')\n",
    "    img2 = mpimg.imread(relative_path + rel_path_word_clouds + 'word_cloud_health_2.png')\n",
    "    plt.axis('off')\n",
    "    imgplot2 = plt.imshow(img2)\n",
    "    plt.show()\n",
    "\n",
    "    plt.title('Environment')\n",
    "    img3 = mpimg.imread(relative_path + rel_path_word_clouds + 'word_cloud_env_2.png')\n",
    "    plt.axis('off')\n",
    "    imgplot3 = plt.imshow(img3)\n",
    "    plt.show()\n",
    "\n",
    "    plt.title('Politics')\n",
    "    img4 = mpimg.imread(relative_path + rel_path_word_clouds + 'word_cloud_poli_3.png')\n",
    "    plt.axis('off')\n",
    "    imgplot4 = plt.imshow(img4)\n",
    "    plt.show()\n",
    "\n",
    "    plt.title('Technology')\n",
    "    img5 = mpimg.imread(relative_path + rel_path_word_clouds + 'word_cloud_tech_2.png')\n",
    "    plt.axis('off')\n",
    "    imgplot5 = plt.imshow(img5)\n",
    "    plt.show()\n",
    "\n",
    "    return"
   ]
  },
  {
   "cell_type": "code",
   "execution_count": null,
   "metadata": {},
   "outputs": [],
   "source": [
    "# df = pd.DataFrame([['Technology', 0.75],\n",
    "# ['Healthcare', 0.65],\n",
    "# ['Politics', 0.85],\n",
    "# ['Education', 0.45],\n",
    "# ['Environment', 0.5]], columns=['topic', 'user_feedback'])\n",
    "\n",
    "# df = pd.DataFrame([['Reddit', 0.65],\n",
    "# ['Chitchat', 0.75]], columns=['Retrieval Index', 'user_feedback'])\n",
    "\n",
    "# df = pd.DataFrame([['1axR', 0.2],\n",
    "# ['7x6r', 0.4],\n",
    "# ['aris', 0.6],\n",
    "# ['178r', 0.8],\n",
    "# ['kr51', 0.3],\n",
    "# ['xnw1', 0.5],\n",
    "# ['xn61', 0.7]]\n",
    "# , columns=['session_id', 'user_feedback'])"
   ]
  },
  {
   "cell_type": "code",
   "execution_count": null,
   "metadata": {},
   "outputs": [],
   "source": [
    "# sql_query = \"SELECT topic, meta FROM IRProject4Database\"\n",
    "# records = run_query(db, sql_query)\n",
    "# filter records by extracting total retrieved\n",
    "\n",
    "# for rec in records:\n",
    "#     rec['total_retrieved'] = rec['meta']['total_retrieved']\n",
    "\n",
    "# topic_docs_df = pd.DataFrame(records, columns=['topic', 'total_retrieved'])"
   ]
  },
  {
   "cell_type": "code",
   "execution_count": 65,
   "metadata": {},
   "outputs": [],
   "source": [
    "# topic_docs_df = pd.DataFrame([['Technology', 70],\n",
    "#   ['Healthcare', 20],\n",
    "#    ['Technology', 30],\n",
    "#     ['Healthcare', 65],\n",
    "#     'Technology', 50]])"
   ]
  },
  {
   "cell_type": "code",
   "execution_count": 76,
   "metadata": {},
   "outputs": [],
   "source": [
    "# show_wordcloud_by_topic()"
   ]
  }
 ],
 "metadata": {
  "kernelspec": {
   "display_name": "Python 3.9.15 ('IR_Chatbot')",
   "language": "python",
   "name": "python3"
  },
  "language_info": {
   "codemirror_mode": {
    "name": "ipython",
    "version": 3
   },
   "file_extension": ".py",
   "mimetype": "text/x-python",
   "name": "python",
   "nbconvert_exporter": "python",
   "pygments_lexer": "ipython3",
   "version": "3.9.15"
  },
  "orig_nbformat": 4,
  "vscode": {
   "interpreter": {
    "hash": "28ee9c644a185fb16b8d8a71efcecd5d8cc1badb30c36cb59d8f96e9039a9e23"
   }
  }
 },
 "nbformat": 4,
 "nbformat_minor": 2
}

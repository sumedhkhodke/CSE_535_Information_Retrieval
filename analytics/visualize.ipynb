{
 "cells": [
  {
   "cell_type": "code",
   "execution_count": 132,
   "metadata": {},
   "outputs": [],
   "source": [
    "import pandas as pd\n",
    "import matplotlib.pyplot as plt\n",
    "import numpy as np"
   ]
  },
  {
   "cell_type": "code",
   "execution_count": 133,
   "metadata": {},
   "outputs": [],
   "source": [
    "import seaborn \n",
    "seaborn.set()"
   ]
  },
  {
   "cell_type": "code",
   "execution_count": 135,
   "metadata": {},
   "outputs": [],
   "source": [
    "def run_query(db, sql_query):\n",
    "    db.mycursor.execute(sql_query)\n",
    "    records = db.mycursor.fetchall()\n",
    "    return records"
   ]
  },
  {
   "cell_type": "code",
   "execution_count": 3,
   "metadata": {},
   "outputs": [],
   "source": [
    "# Get Topic Wise and Index Wise Performance..\n",
    "# For every Query => Get the \n",
    "# Write SQL Queries such that we get the relevant data...\n",
    "# and do the remaining processing afterwards in Pandas\n",
    "# what is going in Meta??? that I would need to know\n",
    "# User feedback is not in Meta..\n",
    "# id, user_feedback, topic, classifier"
   ]
  },
  {
   "cell_type": "code",
   "execution_count": null,
   "metadata": {},
   "outputs": [],
   "source": [
    "db = Database()"
   ]
  },
  {
   "cell_type": "code",
   "execution_count": 136,
   "metadata": {},
   "outputs": [],
   "source": [
    "# (\"CREATE TABLE IRProject4Table (id INT AUTO_INCREMENT PRIMARY KEY, session_id VARCHAR(255), question TEXT(65535), answer TEXT(65535), classifier VARCHAR(255), classifier_probability VARCHAR(255), top_ten_retrieved TEXT(65535), user_feedback VARCHAR(255), total_retrieved VARCHAR(255))\")"
   ]
  },
  {
   "cell_type": "code",
   "execution_count": 137,
   "metadata": {},
   "outputs": [],
   "source": [
    "# sql_query = \"SELECT topic, AVG(user_feedback) FROM IRProject4Database WHERE user_feedback IS NOT NULL GROUP BY topic\"\n",
    "# records = run_query(db, sql_query)\n",
    "# df = pd.DataFrame(records, columns=['topic', 'user_feedback'])"
   ]
  },
  {
   "cell_type": "code",
   "execution_count": 139,
   "metadata": {},
   "outputs": [],
   "source": [
    "df = pd.DataFrame([['Technology', 0.75],\n",
    "['Healthcare', 0.65],\n",
    "['Politics', 0.85],\n",
    "['Education', 0.45],\n",
    "['Environment', 0.5]], columns=['topic', 'user_feedback'])"
   ]
  },
  {
   "cell_type": "code",
   "execution_count": 140,
   "metadata": {},
   "outputs": [
    {
     "data": {
      "text/html": [
       "<div>\n",
       "<style scoped>\n",
       "    .dataframe tbody tr th:only-of-type {\n",
       "        vertical-align: middle;\n",
       "    }\n",
       "\n",
       "    .dataframe tbody tr th {\n",
       "        vertical-align: top;\n",
       "    }\n",
       "\n",
       "    .dataframe thead th {\n",
       "        text-align: right;\n",
       "    }\n",
       "</style>\n",
       "<table border=\"1\" class=\"dataframe\">\n",
       "  <thead>\n",
       "    <tr style=\"text-align: right;\">\n",
       "      <th></th>\n",
       "      <th>topic</th>\n",
       "      <th>user_feedback</th>\n",
       "    </tr>\n",
       "  </thead>\n",
       "  <tbody>\n",
       "    <tr>\n",
       "      <th>0</th>\n",
       "      <td>Technology</td>\n",
       "      <td>0.75</td>\n",
       "    </tr>\n",
       "    <tr>\n",
       "      <th>1</th>\n",
       "      <td>Healthcare</td>\n",
       "      <td>0.65</td>\n",
       "    </tr>\n",
       "    <tr>\n",
       "      <th>2</th>\n",
       "      <td>Politics</td>\n",
       "      <td>0.85</td>\n",
       "    </tr>\n",
       "    <tr>\n",
       "      <th>3</th>\n",
       "      <td>Education</td>\n",
       "      <td>0.45</td>\n",
       "    </tr>\n",
       "    <tr>\n",
       "      <th>4</th>\n",
       "      <td>Environment</td>\n",
       "      <td>0.50</td>\n",
       "    </tr>\n",
       "  </tbody>\n",
       "</table>\n",
       "</div>"
      ],
      "text/plain": [
       "         topic  user_feedback\n",
       "0   Technology           0.75\n",
       "1   Healthcare           0.65\n",
       "2     Politics           0.85\n",
       "3    Education           0.45\n",
       "4  Environment           0.50"
      ]
     },
     "execution_count": 140,
     "metadata": {},
     "output_type": "execute_result"
    }
   ],
   "source": [
    "df"
   ]
  },
  {
   "cell_type": "code",
   "execution_count": 143,
   "metadata": {},
   "outputs": [
    {
     "data": {
      "text/plain": [
       "<Figure size 360x504 with 0 Axes>"
      ]
     },
     "metadata": {},
     "output_type": "display_data"
    },
    {
     "data": {
      "image/png": "[encoded data removed]",
      "text/plain": [
       "<Figure size 432x288 with 1 Axes>"
      ]
     },
     "metadata": {},
     "output_type": "display_data"
    }
   ],
   "source": [
    "# plt.bar(df['topic'], df['user_feedback'])\n",
    "fig = plt.figure(figsize=(5, 7))\n",
    "df.plot(kind='bar', legend=False, width=0.5, x='topic')\n",
    "plt.xticks(rotation=0, fontname='Arial Unicode MS')\n",
    "# plt.bar_label()\n",
    "plt.title('Retrieval Relevance per Topic', pad=15, fontsize=18, fontweight='bold', fontname='Arial Unicode MS')\n",
    "plt.xlabel('Topics', labelpad=12, size=15, fontname='Arial Unicode MS')\n",
    "plt.ylabel('% Relevance from user feedback', labelpad=12, size=15, fontname='Arial Unicode MS')\n",
    "fig.subplots_adjust(bottom=0.5)\n",
    "plt.show()"
   ]
  },
  {
   "cell_type": "code",
   "execution_count": 147,
   "metadata": {},
   "outputs": [],
   "source": [
    "# sql_query = \"SELECT classifier, AVG(user_feedback) FROM IRProject4Database WHERE user_feedback IS NOT NULL GROUP BY classifier\"\n",
    "# records = run_query(db, sql_query)\n",
    "# df = pd.DataFrame(records, columns=['Retrieval Index', 'user_feedback'])"
   ]
  },
  {
   "cell_type": "code",
   "execution_count": 145,
   "metadata": {},
   "outputs": [],
   "source": [
    "df = pd.DataFrame([['Reddit', 0.65],\n",
    "['Chitchat', 0.75]], columns=['Retrieval Index', 'user_feedback'])"
   ]
  },
  {
   "cell_type": "code",
   "execution_count": 146,
   "metadata": {},
   "outputs": [
    {
     "data": {
      "text/plain": [
       "<Figure size 360x504 with 0 Axes>"
      ]
     },
     "metadata": {},
     "output_type": "display_data"
    },
    {
     "data": {
      "image/png": "[encoded data removed]",
      "text/plain": [
       "<Figure size 432x288 with 1 Axes>"
      ]
     },
     "metadata": {},
     "output_type": "display_data"
    }
   ],
   "source": [
    "fig = plt.figure(figsize=(5, 7))\n",
    "df.plot(kind='bar', legend=False, width=0.3, x='Retrieval Index')\n",
    "plt.xticks(rotation=0, fontname='Arial Unicode MS')\n",
    "# plt.bar_label()\n",
    "plt.title('Retrieval Relevance per Database', pad=15, fontsize=18, fontweight='bold', fontname='Arial Unicode MS')\n",
    "plt.xlabel('Database', labelpad=10, size=15, fontname='Arial Unicode MS')\n",
    "plt.ylabel('% Relevance from user feedback', labelpad=12, size=15, fontname='Arial Unicode MS')\n",
    "fig.subplots_adjust(bottom=0)\n",
    "plt.show()"
   ]
  },
  {
   "cell_type": "code",
   "execution_count": 148,
   "metadata": {},
   "outputs": [],
   "source": [
    "# aggregate user feedback for relevance"
   ]
  },
  {
   "cell_type": "code",
   "execution_count": null,
   "metadata": {},
   "outputs": [],
   "source": [
    "# sql_query = \"SELECT session_id, AVG(user_feedback) FROM IRProject4Database WHERE user_feedback IS NOT NULL GROUP BY session_id\"\n",
    "# records = run_query(db, sql_query)\n",
    "# df = pd.DataFrame(records, columns=['session_id', 'user_feedback'])"
   ]
  },
  {
   "cell_type": "code",
   "execution_count": 245,
   "metadata": {},
   "outputs": [],
   "source": [
    "df = pd.DataFrame([['1axR', 0.2],\n",
    "['7x6r', 0.4],\n",
    "['aris', 0.6],\n",
    "['178r', 0.8],\n",
    "['kr51', 0.3],\n",
    "['xnw1', 0.5],\n",
    "['xn61', 0.7]]\n",
    ", columns=['session_id', 'user_feedback'])"
   ]
  },
  {
   "cell_type": "code",
   "execution_count": 260,
   "metadata": {},
   "outputs": [],
   "source": [
    "df_new = pd.cut(df['user_feedback'], bins=[0, 0.3, 0.5, 0.75, 1],\n",
    " labels=['irrelevant', 'somewhat relevant', 'relevant', 'highly relevant'])\n",
    "pie_df = (df_new.value_counts()/len(df)).to_frame().reset_index()\n",
    "pie_df = pie_df.rename(columns={'index': 'Relevance Judgement'})"
   ]
  },
  {
   "cell_type": "code",
   "execution_count": 261,
   "metadata": {},
   "outputs": [
    {
     "data": {
      "text/html": [
       "<div>\n",
       "<style scoped>\n",
       "    .dataframe tbody tr th:only-of-type {\n",
       "        vertical-align: middle;\n",
       "    }\n",
       "\n",
       "    .dataframe tbody tr th {\n",
       "        vertical-align: top;\n",
       "    }\n",
       "\n",
       "    .dataframe thead th {\n",
       "        text-align: right;\n",
       "    }\n",
       "</style>\n",
       "<table border=\"1\" class=\"dataframe\">\n",
       "  <thead>\n",
       "    <tr style=\"text-align: right;\">\n",
       "      <th></th>\n",
       "      <th>Relevance Judgement</th>\n",
       "      <th>user_feedback</th>\n",
       "    </tr>\n",
       "  </thead>\n",
       "  <tbody>\n",
       "    <tr>\n",
       "      <th>0</th>\n",
       "      <td>relevant</td>\n",
       "      <td>0.285714</td>\n",
       "    </tr>\n",
       "    <tr>\n",
       "      <th>1</th>\n",
       "      <td>somewhat relevant</td>\n",
       "      <td>0.285714</td>\n",
       "    </tr>\n",
       "    <tr>\n",
       "      <th>2</th>\n",
       "      <td>irrelevant</td>\n",
       "      <td>0.285714</td>\n",
       "    </tr>\n",
       "    <tr>\n",
       "      <th>3</th>\n",
       "      <td>highly relevant</td>\n",
       "      <td>0.142857</td>\n",
       "    </tr>\n",
       "  </tbody>\n",
       "</table>\n",
       "</div>"
      ],
      "text/plain": [
       "  Relevance Judgement  user_feedback\n",
       "0            relevant       0.285714\n",
       "1   somewhat relevant       0.285714\n",
       "2          irrelevant       0.285714\n",
       "3     highly relevant       0.142857"
      ]
     },
     "execution_count": 261,
     "metadata": {},
     "output_type": "execute_result"
    }
   ],
   "source": [
    "pie_df"
   ]
  },
  {
   "cell_type": "code",
   "execution_count": 262,
   "metadata": {},
   "outputs": [
    {
     "data": {
      "text/html": [
       "<div>\n",
       "<style scoped>\n",
       "    .dataframe tbody tr th:only-of-type {\n",
       "        vertical-align: middle;\n",
       "    }\n",
       "\n",
       "    .dataframe tbody tr th {\n",
       "        vertical-align: top;\n",
       "    }\n",
       "\n",
       "    .dataframe thead th {\n",
       "        text-align: right;\n",
       "    }\n",
       "</style>\n",
       "<table border=\"1\" class=\"dataframe\">\n",
       "  <thead>\n",
       "    <tr style=\"text-align: right;\">\n",
       "      <th></th>\n",
       "      <th>Relevance Judgement</th>\n",
       "      <th>user_feedback</th>\n",
       "    </tr>\n",
       "  </thead>\n",
       "  <tbody>\n",
       "    <tr>\n",
       "      <th>0</th>\n",
       "      <td>highly relevant</td>\n",
       "      <td>0.142857</td>\n",
       "    </tr>\n",
       "    <tr>\n",
       "      <th>1</th>\n",
       "      <td>relevant</td>\n",
       "      <td>0.285714</td>\n",
       "    </tr>\n",
       "    <tr>\n",
       "      <th>2</th>\n",
       "      <td>somewhat relevant</td>\n",
       "      <td>0.285714</td>\n",
       "    </tr>\n",
       "    <tr>\n",
       "      <th>3</th>\n",
       "      <td>irrelevant</td>\n",
       "      <td>0.285714</td>\n",
       "    </tr>\n",
       "  </tbody>\n",
       "</table>\n",
       "</div>"
      ],
      "text/plain": [
       "  Relevance Judgement  user_feedback\n",
       "0     highly relevant       0.142857\n",
       "1            relevant       0.285714\n",
       "2   somewhat relevant       0.285714\n",
       "3          irrelevant       0.285714"
      ]
     },
     "execution_count": 262,
     "metadata": {},
     "output_type": "execute_result"
    }
   ],
   "source": [
    "pie_df = pie_df.iloc[pd.Index(pie_df['Relevance Judgement']).get_indexer(['highly relevant','relevant','somewhat relevant', 'irrelevant'])].reset_index(drop=True)\n",
    "pie_df"
   ]
  },
  {
   "cell_type": "code",
   "execution_count": 254,
   "metadata": {},
   "outputs": [],
   "source": [
    "# pie_df.plot(kind='pie', y='user_feedback', legend=False, wedgeprops={'width': 0.5}, labels=pie_df['Relevance Judgement'])\n",
    "# plt.title('User Relevance Assessment', pad=15, fontsize=18, fontweight='bold', fontname='Arial Unicode MS')"
   ]
  },
  {
   "cell_type": "code",
   "execution_count": 276,
   "metadata": {},
   "outputs": [
    {
     "data": {
      "text/plain": [
       "Text(0.5, 1.0, 'User Relevance Assessment')"
      ]
     },
     "execution_count": 276,
     "metadata": {},
     "output_type": "execute_result"
    },
    {
     "data": {
      "image/png": "[encoded data removed]",
      "text/plain": [
       "<Figure size 720x360 with 1 Axes>"
      ]
     },
     "metadata": {},
     "output_type": "display_data"
    }
   ],
   "source": [
    "fig, ax = plt.subplots(figsize=(10, 5), subplot_kw=dict(aspect=\"equal\"))\n",
    "\n",
    "recipe = pie_df['Relevance Judgement']\n",
    "data = pie_df['user_feedback']\n",
    "\n",
    "wedges, texts, _ = ax.pie(data, wedgeprops=dict(width=0.4), startangle=100, autopct='%.0f%%',\n",
    " pctdistance=0.8, textprops={'fontsize': 10, 'color': 'white', 'fontweight': 'heavy','fontname': 'Arial Unicode MS'},\n",
    " counterclock=False)\n",
    "\n",
    "bbox_props = dict(boxstyle=\"square,pad=0.3\", fc=\"w\", ec=\"k\", lw=0.72)\n",
    "kw = dict(arrowprops=dict(arrowstyle=\"-\", color='black'),\n",
    "          bbox=bbox_props, zorder=0, va=\"center\")\n",
    "\n",
    "for i, p in enumerate(wedges):\n",
    "    ang = (p.theta2 - p.theta1)/2. + p.theta1\n",
    "    y = np.sin(np.deg2rad(ang))\n",
    "    x = np.cos(np.deg2rad(ang))\n",
    "    horizontalalignment = {-1: \"right\", 1: \"left\"}[int(np.sign(x))]\n",
    "    connectionstyle = \"angle,angleA=0,angleB={}\".format(ang)\n",
    "    kw[\"arrowprops\"].update({\"connectionstyle\": connectionstyle})\n",
    "    ax.annotate(recipe[i], xy=(x, y), xytext=(1.1*np.sign(x), 1.2*y),\n",
    "                horizontalalignment=horizontalalignment, **kw)\n",
    "\n",
    "ax.legend(['rel > 0.75', '0.5 > rel > 0.75', '0.3 > rel > 0.5', '0.0 > rel > 0.3'], loc='center left', bbox_to_anchor=[-0.5, 0.5])\n",
    "plt.title('User Relevance Assessment', pad=15, fontsize=18, fontweight='bold', fontname='Arial Unicode MS')"
   ]
  },
  {
   "cell_type": "code",
   "execution_count": null,
   "metadata": {},
   "outputs": [],
   "source": [
    "# Distribution of no. of retrieved documents\n",
    "\n",
    "# box plot\n"
   ]
  },
  {
   "cell_type": "code",
   "execution_count": null,
   "metadata": {},
   "outputs": [],
   "source": [
    "# sql_query = \"SELECT topic, meta FROM IRProject4Database\"\n",
    "# records = run_query(db, sql_query)\n",
    "# filter records by extracting total retrieved\n",
    "\n",
    "# for rec in records:\n",
    "#     rec['total_retrieved'] = rec['meta']['total_retrieved']\n",
    "\n",
    "# topic_docs_df = pd.DataFrame(records, columns=['topic', 'total_retrieved'])"
   ]
  },
  {
   "cell_type": "code",
   "execution_count": null,
   "metadata": {},
   "outputs": [],
   "source": [
    "topic_docs_df = pd.DataFrame([['Technology', 70],\n",
    "  ['Healthcare', 20],\n",
    "   ['Technology', 30],\n",
    "    ['Healthcare', 65],\n",
    "    'Technology', 50]])"
   ]
  },
  {
   "cell_type": "code",
   "execution_count": null,
   "metadata": {},
   "outputs": [],
   "source": [
    "import matplotlib.pyplot as plt\n",
    "import matplotlib.image as mpimg\n",
    "\n",
    "relative_path = \"IRProject4_git_4Dec/CSE_535_Information_Retrieval-/retrieval/analytics/\"\n",
    "\n",
    "\n",
    "rel_path_word_clouds = \"word_clouds_2/\"\n",
    "\n",
    "img1 = mpimg.imread(relative_path + rel_path_word_clouds + 'word_cloud_edu_2.png')\n",
    "imgplot1 = plt.imshow(img1)\n",
    "plt.show()\n",
    "\n",
    "img2 = mpimg.imread(relative_path + rel_path_word_clouds + 'word_cloud_health_2.png')\n",
    "imgplot2 = plt.imshow(img2)\n",
    "plt.show()\n",
    "\n",
    "img3 = mpimg.imread(relative_path + rel_path_word_clouds + 'word_cloud_env_2.png')\n",
    "imgplot3 = plt.imshow(img3)\n",
    "plt.show()\n",
    "\n",
    "img4 = mpimg.imread(relative_path + rel_path_word_clouds + 'word_cloud_poli_2.png')\n",
    "imgplot4 = plt.imshow(img4)\n",
    "plt.show()\n",
    "\n",
    "img5 = mpimg.imread(relative_path + rel_path_word_clouds + 'word_cloud_tech_2.png')\n",
    "imgplot5 = plt.imshow(img5)\n",
    "plt.show()"
   ]
  }
 ],
 "metadata": {
  "kernelspec": {
   "display_name": "Python 3.6.10 ('test')",
   "language": "python",
   "name": "python3"
  },
  "language_info": {
   "codemirror_mode": {
    "name": "ipython",
    "version": 3
   },
   "file_extension": ".py",
   "mimetype": "text/x-python",
   "name": "python",
   "nbconvert_exporter": "python",
   "pygments_lexer": "ipython3",
   "version": "3.6.10"
  },
  "orig_nbformat": 4,
  "vscode": {
   "interpreter": {
    "hash": "a8aac0b6a3e67f35bcd67088a857342b2a6b50e1135570ee0f841fb10732c056"
   }
  }
 },
 "nbformat": 4,
 "nbformat_minor": 2
}
